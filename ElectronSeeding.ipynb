{
 "cells": [
  {
   "cell_type": "markdown",
   "metadata": {},
   "source": [
    "<h1 style=“font-size:5rem;color:orange;“> PHOTON SEEDING: Number of first pairs</h1>"
   ]
  },
  {
   "cell_type": "code",
   "execution_count": 1,
   "metadata": {},
   "outputs": [
    {
     "name": "stdout",
     "output_type": "stream",
     "text": [
      "Intel MKL WARNING: Support of Intel(R) Streaming SIMD Extensions 4.2 (Intel(R) SSE4.2) enabled only processors has been deprecated. Intel oneAPI Math Kernel Library 2025.0 will require Intel(R) Advanced Vector Extensions (Intel(R) AVX) instructions.\n",
      "Intel MKL WARNING: Support of Intel(R) Streaming SIMD Extensions 4.2 (Intel(R) SSE4.2) enabled only processors has been deprecated. Intel oneAPI Math Kernel Library 2025.0 will require Intel(R) Advanced Vector Extensions (Intel(R) AVX) instructions.\n"
     ]
    }
   ],
   "source": [
    "import numpy as np\n",
    "import matplotlib.pyplot as plt\n",
    "import warnings\n",
    "import h5py\n",
    "import matplotlib as mpl\n",
    "warnings.filterwarnings(\"ignore\", category=RuntimeWarning)\n",
    "mpl.rcParams['font.family'] = ['serif']\n",
    "mpl.rcParams['font.serif'] = ['Times New Roman']\n",
    "mpl.rcParams[\"mathtext.fontset\"] = \"cm\"\n",
    "pi = np.pi\n",
    "W_0=3.776837598996484e+18"
   ]
  },
  {
   "cell_type": "markdown",
   "metadata": {},
   "source": [
    "I) Interpolation of the tables.\n",
    "\n",
    "Note that the arguments X or Y correspond to the log10 of the quantum parameter"
   ]
  },
  {
   "cell_type": "code",
   "execution_count": 2,
   "metadata": {},
   "outputs": [],
   "source": [
    "class table1D(object):\n",
    "    def __init__(self, xmin, xmax, table):\n",
    "        self.xmin = xmin\n",
    "        self.xmax = xmax\n",
    "        self.Nx = table.shape[0]\n",
    "        self.Table = table\n",
    "    \n",
    "    def interpolate(self, X):\n",
    "        Di = (X-self.xmin)/(self.xmax-self.xmin)*(self.Nx-1)\n",
    "        I = Di.astype('i')\n",
    "        Di -= I\n",
    "        keep = (0<=I)*(I<self.Nx-1)\n",
    "        result = np.empty_like(X)\n",
    "        result[~keep] = 0.\n",
    "        result[keep] = (\n",
    "            (1.-Di[keep])*self.Table[I[keep]]\n",
    "            +(Di[keep])*self.Table[I[keep]+1]\n",
    "        )\n",
    "        return result\n",
    "    \n",
    "class table2D(object):\n",
    "    def __init__(self, xmin, xmax, ymin, ymax, table):\n",
    "        self.xmin = xmin\n",
    "        self.xmax = xmax\n",
    "        self.ymin = ymin\n",
    "        self.ymax = ymax\n",
    "        self.Nx= table.shape[0]\n",
    "        self.Ny= table.shape[1]\n",
    "        self.Table = table\n",
    "    \n",
    "    def interpolate(self, X,Y):\n",
    "        Di = (X-self.xmin)/(self.xmax-self.xmin)*(self.Nx-1)\n",
    "        I = Di.astype('i')\n",
    "        Di -= I\n",
    "        Dj = (Y-self.ymin)/(self.ymax-self.ymin)*(self.Ny-1)\n",
    "        J = Dj.astype('i')\n",
    "        Dj -= J\n",
    "        keep = (0<=I)*(0<=J)*(I<self.Nx-1)*(J<self.Ny-1)\n",
    "        result = np.empty_like(X)\n",
    "        result[~keep] = 0.\n",
    "        result[keep] = (\n",
    "            (1.-Di[keep])*(1.-Dj[keep])*self.Table[I[keep],J[keep]]\n",
    "            +(Di[keep])*(1.-Dj[keep])*self.Table[I[keep]+1,J[keep]]\n",
    "            +(1.-Di[keep])*(Dj[keep])*self.Table[I[keep],J[keep]+1]\n",
    "            +(Di[keep])*(Dj[keep])*self.Table[I[keep]+1,J[keep]+1]\n",
    "        )\n",
    "        return result "
   ]
  },
  {
   "cell_type": "markdown",
   "metadata": {},
   "source": [
    "II) Load tables for non-linear Compton scattering (NCS) and non-linear Breit-Wheeler (NBW) processes"
   ]
  },
  {
   "cell_type": "code",
   "execution_count": 3,
   "metadata": {},
   "outputs": [],
   "source": [
    "# Tabulated \"F?\" function for the NCS rate\n",
    "#   shape: 1024x1024\n",
    "#   axes: chi,chi_gamma\n",
    "#   extent: [1e-3,1e3], [1e-3,1e3] (log10space)\n",
    "with h5py.File('TABLES/W_ncs_el_ph_L.h5', 'r') as hf:\n",
    "    Wncs_el_ph = table2D(-3,3,-3,3,hf['WnCSG'][()])\n",
    "\n",
    "# Tabulated \"G?\" function for the NBW rate\n",
    "#   shape: 1024x1024\n",
    "#   axes: chi_gamma,chi\n",
    "#   extent: [1e-3,1e3], [1e-3,1e3] (log10space)\n",
    "with h5py.File('TABLES/W_bw_ph_el_L.h5', 'r') as hf:\n",
    "    Wbw_ph_el = table2D(-3,3,-3,3,hf['WBWE'][()].T)\n",
    "\n",
    "# Tabulated \"A?\" function for the NCS rate\n",
    "#   shape: 1024\n",
    "#   axes: chi\n",
    "#   extent: [1e-3,1e3] (log10space)\n",
    "with h5py.File('TABLES/W_ncs_el_L.h5', 'r') as hf:\n",
    "    Wncs_el = table1D(-3,3,hf['WnCS'][()])\n",
    "\n",
    "# Tabulated \"B?\" function for the NBW rate\n",
    "#   shape: 1024\n",
    "#   axes: chi_gamma\n",
    "#   extent: [1e-3,1e3] (log10space)\n",
    "with h5py.File('TABLES/W_bw_ph_L.h5', 'r') as hf:\n",
    "    Wbw_ph = table1D(-3,3,hf['WBW'][()])"
   ]
  },
  {
   "cell_type": "markdown",
   "metadata": {},
   "source": [
    "III) Definition of the geometry\n",
    "\n",
    "Here, linearly-polarized laser and counter propagation"
   ]
  },
  {
   "cell_type": "code",
   "execution_count": 4,
   "metadata": {},
   "outputs": [],
   "source": [
    "def laser(t_minus_x,tfwhm):\n",
    "    #Laser field definition: Linearly polarized\n",
    "    return np.sin(2*pi*t_minus_x)*np.sin(pi/2.*t_minus_x/tfwhm)*np.heaviside(t_minus_x,0.)*np.heaviside(2*tfwhm-t_minus_x,0.)\n",
    "\n",
    "def compute_quantum_parameter(gamma,a_0,a_s,t,tfwhm):\n",
    "    #Quantum parameter for linear polarized laser in counter propagation with incident beam\n",
    "    #t_minus_x=t-x/c=2t\n",
    "    return 2.*gamma*a_0/a_s*np.abs(laser(2.*t,tfwhm))"
   ]
  },
  {
   "cell_type": "markdown",
   "metadata": {},
   "source": [
    "IV) Solve average energy evolution of initial lepton\n",
    "\n",
    "$\\frac{d}{dt}\\langle\\gamma\\rangle= -W_0\\,\\langle\\chi\\rangle^2(t)\\,g\\!\\left(\\langle\\chi\\rangle(t)\\right)$\n",
    "\n",
    "Complexity $O(N_t)$"
   ]
  },
  {
   "cell_type": "code",
   "execution_count": 5,
   "metadata": {},
   "outputs": [],
   "source": [
    "def g(chi):\n",
    "    #Gaunt factor\n",
    "    return (1.+4.8*(1.+chi)*np.log(1.+1.7*chi)+2.44*chi**2)**(-2/3.)\n",
    "\n",
    "def compute_average_energy(gamma_0,a_0,a_s,omega,Times,dT,tfwhm):\n",
    "    #Average energy of the incident leptons in time\n",
    "    avg_gamma = np.zeros(len(Times))\n",
    "    avg_gamma[0] = gamma_0\n",
    "    Nt = len(Times)\n",
    "    #Calculate the average energy in time\n",
    "    for i in range (Nt-1):\n",
    "        #Quantum parameter of the leptons\n",
    "        avg_chi = compute_quantum_parameter(avg_gamma[i],a_0,a_s,Times[i],tfwhm)\n",
    "        #Quantum parameter of the incident photon\n",
    "        avg_gamma[i+1]=avg_gamma[i]-W_0*avg_chi**2*g(avg_chi)*dT[i]*2*pi/omega\n",
    "    return avg_gamma"
   ]
  },
  {
   "cell_type": "markdown",
   "metadata": {},
   "source": [
    "V) Compute the probability of a photon to decay between times t and T (`=Times[-1]`) for an array of values of t from 0 to T\n",
    "\n",
    "$1-\\exp{\\left[-\\int_t^T d\\tau W_{nBW}(\\gamma_\\gamma,\\chi_\\gamma(\\tau))\\right]}$"
   ]
  },
  {
   "cell_type": "code",
   "execution_count": 6,
   "metadata": {},
   "outputs": [],
   "source": [
    "def compute_probability_to_decay(gamma_gamma,a_0,a_s,omega,Times,dT,tfwhm):\n",
    "    #Probability to decay if photon at gamma_gamma interact with the laser between t to the last time\n",
    "    #Quantum parameter of photon in time\n",
    "    chi_gamma = compute_quantum_parameter(gamma_gamma,a_0,a_s,Times,tfwhm)\n",
    "    #Breit Wheeler rate in time \n",
    "    BW_rate = Wbw_ph.interpolate(np.log10(chi_gamma))/gamma_gamma\n",
    "    #Integral of Breit Wheeler from t' to the last time\n",
    "    BW_optical_depth = np.zeros(len(Times))\n",
    "    BW_optical_depth[1:] = np.cumsum((BW_rate[1:]+BW_rate[:-1])/2.*dT*2*pi/omega)\n",
    "    BW_optical_depth = BW_optical_depth[-1] - BW_optical_depth\n",
    "    return 1.-np.exp(-BW_optical_depth)"
   ]
  },
  {
   "cell_type": "markdown",
   "metadata": {},
   "source": [
    "VI) Compute the rate of photon emission by a lepton at the average energy\n",
    "\n",
    "$w_{nCS}(\\langle \\gamma \\rangle(t),\\gamma_\\gamma)$"
   ]
  },
  {
   "cell_type": "code",
   "execution_count": 7,
   "metadata": {},
   "outputs": [],
   "source": [
    "def compute_emission_rate(gamma_gamma,avg_gamma,a_0,a_s,Times,tfwhm):\n",
    "    #Average quantum parameter of the incident lepton\n",
    "    avg_chi = compute_quantum_parameter(avg_gamma,a_0,a_s,Times,tfwhm)\n",
    "    #Quantum parameter of the emitted photon\n",
    "    chi_gamma = compute_quantum_parameter(gamma_gamma,a_0,a_s,Times,tfwhm)\n",
    "    #Non linear Compton Scattering rate at average energy of first lepton\n",
    "    return Wncs_el_ph.interpolate(np.log10(avg_chi)*np.ones(len(chi_gamma)),np.log10(chi_gamma))/avg_gamma/gamma_gamma"
   ]
  },
  {
   "cell_type": "markdown",
   "metadata": {},
   "source": [
    "VII) Compute the number of first pairs at the end of the interaction T=Times[-1]\n",
    "\n",
    "$N_\\pm^{(1)}(T) = \\int_0^\\infty\\!d\\gamma_\\gamma\\int_0^T\\!dt'\\,w_{nCS}\\!\\left(\\langle\\gamma\\rangle(t'),\\gamma_\\gamma\\right)\n",
    "    \\,\\left[1 - \\exp\\left(-\\int_{t'}^T\\!d\\tau\\,W_{nBW}(\\gamma_\\gamma,\\chi_\\gamma(\\tau))\\right)\\right]\n",
    "$\n",
    "\n",
    "Complexity $O(N_t\\times N_\\gamma)$"
   ]
  },
  {
   "cell_type": "code",
   "execution_count": 8,
   "metadata": {},
   "outputs": [],
   "source": [
    "def compute_N_pairs_1(gamma_0,a_0,a_s,omega,Gamma,Times,dT,tfwhm):\n",
    "    #Number of second pairs at last time\n",
    "    #Spectrum of photons which have decayed during the interaction\n",
    "    Ng = len(Gamma)\n",
    "    Ph_Decayed = np.zeros(Ng)\n",
    "    #Average energy of the first leptons in time if created at gamma_0\n",
    "    avg_gamma_0 = compute_average_energy(gamma_0,a_0,a_s,omega,Times,dT,tfwhm)\n",
    "    #For each energy\n",
    "    for i in range (Ng):\n",
    "        #nCS rate to emit photon at Gamma[i] in time\n",
    "        CS_rate = compute_emission_rate(Gamma[i],avg_gamma_0,a_0,a_s,Times,tfwhm)\n",
    "        #Probability of a photon at Gamma[i] to decay before last time\n",
    "        BW_probability = compute_probability_to_decay(Gamma[i],a_0,a_s,omega,Times,dT,tfwhm)\n",
    "        #Photons of energy Gamma[i] which have decay before last time\n",
    "        #Right integrale of Eq XX\n",
    "        Ph_Decayed[i] = np.trapz(CS_rate*BW_probability,x=Times*2*pi/omega)\n",
    "    #Integral of all the decayed photons or the number of second pairs at last time\n",
    "    #Left integrale of Eq XX\n",
    "    return np.trapz(Ph_Decayed,x=Gamma) "
   ]
  },
  {
   "cell_type": "markdown",
   "metadata": {},
   "source": [
    "IX) Compute the number of first pairs as a function of time\n",
    "\n",
    "$N_\\pm^{(1)}(t) = \\int_0^\\infty\\!d\\gamma_\\gamma\\int_0^t\\!dt'\\,\\,w_{nCS}\\!\\left(\\langle\\gamma\\rangle(t'),\\gamma_\\gamma\\right)\n",
    "    \\,\\left[1 - \\exp\\left(-\\int_{t'}^t\\!d\\tau\\,W_{nBW}(\\gamma_\\gamma,\\chi_\\gamma(\\tau))\\right)\\right]\n",
    "$\n",
    "\n",
    "\n",
    "Calculation of the survivor photons emitted by the incident lepton:\n",
    "\n",
    "$\n",
    "\\int_0^t\\!dt'\\,w_{nCS}(\\langle\\gamma\\rangle(t'),\\gamma_\\gamma)\\exp\\left(-\\int_{t'}^t\\!d\\tau\\,W_{nBW}(\\gamma_\\gamma,\\chi_\\gamma(\\tau))\\right)\\, .\n",
    "$\n",
    "\n",
    "and the spectrum of the photons that decayed to create the first pairs:\n",
    "\n",
    "$\n",
    "\\int_0^t\\!dt'\\,w_{nCS}\\!\\left(\\langle\\gamma\\rangle(t'),\\gamma_\\gamma\\right)\n",
    "    \\,\\left[1 - \\exp\\left(-\\int_{t'}^t\\!d\\tau\\,W_{nBW}(\\gamma_\\gamma,\\chi_\\gamma(\\tau))\\right)\\right]\n",
    "$\n",
    "\n",
    "as function of time and energy\n",
    "\n",
    "Complexity $O(N_t^2 \\times N_\\gamma)$"
   ]
  },
  {
   "cell_type": "code",
   "execution_count": 9,
   "metadata": {},
   "outputs": [],
   "source": [
    "def compute_N_pairs_1_times(gamma_0,a_0,a_s,omega,Gamma,Times,dT,tfwhm):\n",
    "    Nt = len(Times)\n",
    "    Ng = len(Gamma)\n",
    "    #Number of second pairs in function of time\n",
    "    N_pairs_1 = np.zeros(Nt)\n",
    "    #Average energy of the first leptons in time if created at gamma_0\n",
    "    avg_gamma_0 = compute_average_energy(gamma_0,a_0,a_s,omega,Times,dT,tfwhm)\n",
    "    #nBW rate in times and photons energy\n",
    "    BW_rate = np.zeros((Nt,Ng))\n",
    "    #nCS spectral rate at the leptons avergare energy and photons energy\n",
    "    CS_rate = np.zeros((Nt,Ng))\n",
    "    #Integral of Wbw from 0 to t for all photons energy\n",
    "    BW_optical_depth = np.zeros((Nt,Ng))\n",
    "    for i in range (Ng):\n",
    "        #quantum parameter of photon at Gamma[i] in time\n",
    "        chi_gamma = compute_quantum_parameter(Gamma[i],a_0,a_s,Times,tfwhm)\n",
    "        CS_rate[:,i] = compute_emission_rate(Gamma[i],avg_gamma_0,a_0,a_s,Times,tfwhm)\n",
    "        BW_rate[:,i] = Wbw_ph.interpolate(np.log10(chi_gamma))/Gamma[i]\n",
    "        BW_optical_depth[1:,i] = np.cumsum((BW_rate[1:,i]+BW_rate[:-1,i])/2.*dT*2*pi/omega)\n",
    "    #\n",
    "    Ph_Decayed = np.zeros((Nt,Ng))\n",
    "    Ph_Survivor = np.zeros((Nt,Ng))\n",
    "    for i in range (1,Nt):\n",
    "        Ph_Decayed[i,:] = np.trapz(CS_rate[:i,:]*(1.-np.exp(-BW_optical_depth[i,:]+BW_optical_depth[:i,:])),x=Times[:i]*2*pi/omega,axis=0)\n",
    "        Ph_Survivor[i,:] = np.trapz(CS_rate[:i,:]*(np.exp(-BW_optical_depth[i,:]+BW_optical_depth[:i,:])),x=Times[:i]*2*pi/omega,axis=0)\n",
    "        N_pairs_1[i] = np.trapz(Ph_Decayed[i,:],x=Gamma)\n",
    "    return Ph_Decayed,Ph_Survivor,N_pairs_1\n"
   ]
  },
  {
   "cell_type": "markdown",
   "metadata": {},
   "source": [
    "X) Definition of parameters\n",
    "\n",
    "Note that the time is in unit of $\\tau$ (the laser period)"
   ]
  },
  {
   "cell_type": "code",
   "execution_count": 10,
   "metadata": {},
   "outputs": [],
   "source": [
    "lambd=0.8e-6 # laser wavelength\n",
    "omega=2*pi*3e8/lambd #\n",
    "tau=lambd/3e8\n",
    "a_s=7.763440706293301e+20/omega\n",
    "a_0=200.\n",
    "gamma_0=1e4\n",
    "tfwhm=7.5\n",
    "Ng=512\n",
    "Nt=1024\n",
    "Gamma=np.logspace(np.log10(2),np.log10(gamma_0),Ng)\n",
    "Times=np.linspace(0,tfwhm,Nt)\n",
    "dT=np.diff(Times)"
   ]
  },
  {
   "cell_type": "markdown",
   "metadata": {},
   "source": [
    "Calculation of the number of 1st and 2nd pairs at the end of interaction"
   ]
  },
  {
   "cell_type": "code",
   "execution_count": 11,
   "metadata": {},
   "outputs": [
    {
     "name": "stdout",
     "output_type": "stream",
     "text": [
      "Number of first pairs 2.392820808656853\n"
     ]
    }
   ],
   "source": [
    "N1th=compute_N_pairs_1(gamma_0,a_0,a_s,omega,Gamma,Times,dT,tfwhm)\n",
    "print(f'Number of first pairs {N1th}')"
   ]
  },
  {
   "cell_type": "markdown",
   "metadata": {},
   "source": [
    "Calculation of the number of pairs as function of time"
   ]
  },
  {
   "cell_type": "code",
   "execution_count": 12,
   "metadata": {},
   "outputs": [],
   "source": [
    "PhDecayedth,PhSurvivorth,N1th=compute_N_pairs_1_times(gamma_0,a_0,a_s,omega,Gamma,Times,dT,tfwhm)"
   ]
  },
  {
   "cell_type": "code",
   "execution_count": 13,
   "metadata": {},
   "outputs": [
    {
     "data": {
      "image/png": "[encoded data removed]",
      "text/plain": [
       "<Figure size 640x480 with 1 Axes>"
      ]
     },
     "metadata": {},
     "output_type": "display_data"
    }
   ],
   "source": [
    "plt.plot(Times,N1th,label=r'$N_1(t)$')\n",
    "plt.xlabel(r't $[\\tau]$')\n",
    "plt.ylabel(r'Shower Multiplicity $[\\#/N_0]$')\n",
    "plt.legend()\n",
    "plt.show()"
   ]
  },
  {
   "cell_type": "code",
   "execution_count": null,
   "metadata": {},
   "outputs": [],
   "source": []
  }
 ],
 "metadata": {
  "kernelspec": {
   "display_name": "base",
   "language": "python",
   "name": "python3"
  },
  "language_info": {
   "codemirror_mode": {
    "name": "ipython",
    "version": 3
   },
   "file_extension": ".py",
   "mimetype": "text/x-python",
   "name": "python",
   "nbconvert_exporter": "python",
   "pygments_lexer": "ipython3",
   "version": "3.9.18"
  }
 },
 "nbformat": 4,
 "nbformat_minor": 2
}
